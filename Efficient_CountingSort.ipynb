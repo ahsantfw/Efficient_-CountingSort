{
  "nbformat": 4,
  "nbformat_minor": 0,
  "metadata": {
    "colab": {
      "provenance": [],
      "authorship_tag": "ABX9TyONsE1h6b0Vob9alm7EMV9s",
      "include_colab_link": true
    },
    "kernelspec": {
      "name": "python3",
      "display_name": "Python 3"
    },
    "language_info": {
      "name": "python"
    }
  },
  "cells": [
    {
      "cell_type": "markdown",
      "metadata": {
        "id": "view-in-github",
        "colab_type": "text"
      },
      "source": [
        "<a href=\"https://colab.research.google.com/github/ahsantfw/Efficient_CountingSort/blob/main/Efficient_CountingSort.ipynb\" target=\"_parent\"><img src=\"https://colab.research.google.com/assets/colab-badge.svg\" alt=\"Open In Colab\"/></a>"
      ]
    },
    {
      "cell_type": "code",
      "execution_count": 4,
      "metadata": {
        "colab": {
          "base_uri": "https://localhost:8080/"
        },
        "id": "WrSKI4Mp7ukv",
        "outputId": "a7571bda-4f2b-4ac3-cf39-dff4b9c678a9"
      },
      "outputs": [
        {
          "output_type": "execute_result",
          "data": {
            "text/plain": [
              "[0, 2, 2, 3, 3, 10, 100]"
            ]
          },
          "metadata": {},
          "execution_count": 4
        }
      ],
      "source": [
        "#7 Counting Sort with just two loops O(n)\n",
        "\n",
        "def countingSort(arr):\n",
        "  n, mx = len(arr), max(arr)\n",
        "\n",
        "  index = [0 for i in range(mx+1)]  # Index array for storing counts of each number\n",
        "  output = list() # output array for storing sorted number\n",
        "  \n",
        "  for i in range(n):   # Get counts of each number\n",
        "    index[arr[i]] = index[arr[i]] + 1\n",
        "  \n",
        "  for j in range(len(index)): # Shift count values to output\n",
        "    if index[j] > 0:\n",
        "      count = index[j]\n",
        "      while count > 0: # append as many elements as count\n",
        "        output.append(j)\n",
        "        count = count - 1\n",
        "\n",
        "  return output\n",
        "\n",
        "a = [0, 10, 100, 3, 2, 2, 3]\n",
        "countingSort(a)"
      ]
    },
    {
      "cell_type": "code",
      "source": [],
      "metadata": {
        "id": "vT_DN5iJ79mB"
      },
      "execution_count": null,
      "outputs": []
    }
  ]
}